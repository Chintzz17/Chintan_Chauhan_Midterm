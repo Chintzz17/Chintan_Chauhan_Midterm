{
 "cells": [
  {
   "cell_type": "code",
   "execution_count": 2,
   "id": "c8911a2c",
   "metadata": {},
   "outputs": [],
   "source": [
    "import math"
   ]
  },
  {
   "cell_type": "markdown",
   "id": "b305cb99",
   "metadata": {},
   "source": [
    "# Question 21\n",
    "\n",
    "__int()__: Constructor that takes as input a pair of Point objects that represent the ends points of the line segment  \n",
    "\n",
    "Length():: returns the length if the segment    \n",
    "\n",
    "Slope() returns the slope of the segment of none if the slope is unbounded "
   ]
  },
  {
   "cell_type": "code",
   "execution_count": 16,
   "id": "d9da995d",
   "metadata": {},
   "outputs": [
    {
     "name": "stdout",
     "output_type": "stream",
     "text": [
      "5.0\n",
      "1.3333333333333333\n"
     ]
    }
   ],
   "source": [
    "class Point:\n",
    "    def __init__(self, x=0, y=0):\n",
    "        self.x = x\n",
    "        self.y = y\n",
    "\n",
    "class Segment:\n",
    "    def __init__(self, p1, p2): #Point1 and point2\n",
    "        self.p1 = p1\n",
    "        self.p2 = p2\n",
    "\n",
    "    def length(self):\n",
    "        return ((self.p1.x - self.p2.x)**2 + (self.p1.y - self.p2.y)**2)**0.5\n",
    "\n",
    "    def slope(self):\n",
    "        if self.p1.x == self.p2.x:\n",
    "            return None\n",
    "        return (self.p2.y - self.p1.y) / (self.p2.x - self.p1.x)\n",
    "\n",
    "p1 = Point(3,4)\n",
    "p2 = Point()\n",
    "S = Segment(p1,p2)\n",
    "print(S.length()) # output: 5.0\n",
    "print(S.slope()) # output: 1.33"
   ]
  },
  {
   "cell_type": "code",
   "execution_count": null,
   "id": "9032706e",
   "metadata": {},
   "outputs": [],
   "source": []
  }
 ],
 "metadata": {
  "kernelspec": {
   "display_name": "Python 3 (ipykernel)",
   "language": "python",
   "name": "python3"
  },
  "language_info": {
   "codemirror_mode": {
    "name": "ipython",
    "version": 3
   },
   "file_extension": ".py",
   "mimetype": "text/x-python",
   "name": "python",
   "nbconvert_exporter": "python",
   "pygments_lexer": "ipython3",
   "version": "3.9.12"
  }
 },
 "nbformat": 4,
 "nbformat_minor": 5
}
