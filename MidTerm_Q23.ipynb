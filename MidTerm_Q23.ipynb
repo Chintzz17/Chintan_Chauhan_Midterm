{
 "cells": [
  {
   "cell_type": "markdown",
   "id": "d0225d5b",
   "metadata": {},
   "source": [
    "# Question 23\n",
    "\n",
    "Develop a recursive function tough() that takes two nonnegative integer arguments and outputs a pattern as shown below. Hint: The first argument represents the indentation of the pattern, where the second argument -- always a pattern of 2 indicates the number *s in the longest line of *s in the pattern"
   ]
  },
  {
   "cell_type": "code",
   "execution_count": 1,
   "id": "7a65e533",
   "metadata": {},
   "outputs": [],
   "source": [
    "def f(indent, num):\n",
    "    if(num > 0):\n",
    "        f(indent, num//2);\n",
    "        print(\" \"*indent + \"*\"*num);\n",
    "        f(indent + num//2, num//2);"
   ]
  },
  {
   "cell_type": "code",
   "execution_count": 3,
   "id": "496bec1c",
   "metadata": {},
   "outputs": [],
   "source": [
    "f(0,0)"
   ]
  },
  {
   "cell_type": "code",
   "execution_count": 4,
   "id": "b3ea999b",
   "metadata": {},
   "outputs": [
    {
     "name": "stdout",
     "output_type": "stream",
     "text": [
      "*\n"
     ]
    }
   ],
   "source": [
    "f(0,1)"
   ]
  },
  {
   "cell_type": "code",
   "execution_count": 5,
   "id": "45c808f1",
   "metadata": {},
   "outputs": [
    {
     "name": "stdout",
     "output_type": "stream",
     "text": [
      "*\n",
      "**\n",
      " *\n"
     ]
    }
   ],
   "source": [
    "f(0,2)"
   ]
  },
  {
   "cell_type": "code",
   "execution_count": 6,
   "id": "11772921",
   "metadata": {},
   "outputs": [
    {
     "name": "stdout",
     "output_type": "stream",
     "text": [
      "*\n",
      "**\n",
      " *\n",
      "****\n",
      "  *\n",
      "  **\n",
      "   *\n"
     ]
    }
   ],
   "source": [
    "f(0,4)"
   ]
  },
  {
   "cell_type": "code",
   "execution_count": null,
   "id": "284bd595",
   "metadata": {},
   "outputs": [],
   "source": []
  }
 ],
 "metadata": {
  "kernelspec": {
   "display_name": "Python 3 (ipykernel)",
   "language": "python",
   "name": "python3"
  },
  "language_info": {
   "codemirror_mode": {
    "name": "ipython",
    "version": 3
   },
   "file_extension": ".py",
   "mimetype": "text/x-python",
   "name": "python",
   "nbconvert_exporter": "python",
   "pygments_lexer": "ipython3",
   "version": "3.9.12"
  }
 },
 "nbformat": 4,
 "nbformat_minor": 5
}
